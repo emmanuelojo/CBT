{
 "cells": [
  {
   "cell_type": "code",
   "execution_count": 3,
   "metadata": {},
   "outputs": [],
   "source": [
    "def exams():\n",
    "    score = 0\n",
    "    student_login= input(\"\"\"Welcome to the  end of term examination. I wish you success as you take this paper.\n",
    "                Press 1 to start:  \n",
    "                Press 2 to exit: \"\"\")\n",
    "    if student_login == \"1\":\n",
    "        print(\"This paper is for 30 minutes.\")\n",
    "        student = input(\"Type your name: \")\n",
    "        print(student,\", you can now begin\")\n",
    "        print(\"Select the correct option for each question\")\n",
    "        \n",
    "        Q1 = input(\"Q1. 1+ 1 = ? a) 2 b) 3 c) 4 d)5 : \")\n",
    "        if Q1 == \"a\":\n",
    "            score += 1\n",
    "        Q2 = input(\"Q2. 2+ 1 =?  a) 2 b) 3 c) 4 d)5 : \")\n",
    "        if Q2 == \"a\":\n",
    "            score += 1\n",
    "        Q3 = input(\"Q3. 3+ 1 =?  a) 2 b) 3 c) 4 d)5 : \")\n",
    "        if Q3 == \"a\":\n",
    "            score += 1\n",
    "        Q4 = input(\"Q4. 4+ 1 =?  a) 2 b) 3 c) 4 d)5 : \")\n",
    "        if Q4 == \"a\":\n",
    "            score += 1\n",
    "        Q5 = input(\"Q5. 5+ 1 =?  a) 6 b) 3 c) 4 d)5 : \")\n",
    "        if Q5 == \"a\":\n",
    "            score += 1\n",
    "        Q6 = input(\"Q6. 6+ 1 =?  a) 2 b) 7 c) 4 d)5 : \")\n",
    "        if Q6 == \"a\":\n",
    "            score += 1\n",
    "        Q7 = input(\"Q7. 7+ 1 =?  a) 2 b) 3 c) 8 d)5 : \")\n",
    "        if Q7 == \"a\":\n",
    "            score += 1\n",
    "        Q8 = input(\"Q8. 8+ 1 =?  a) 2 b) 3 c) 4 d)9 : \")\n",
    "        if Q8 == \"a\":\n",
    "            score += 1\n",
    "        Q9 = input(\"Q9. 9+ 1 =?  a) 2 b) 3 c) 10 d)5 : \")\n",
    "        if Q9 == \"a\":\n",
    "            score += 1\n",
    "        Q10 = input(\"Q10. 10+ 1 =?  a) 2 b) 11 c) 4 d)5 : \")\n",
    "        if Q10 == \"a\":\n",
    "            score += 1\n",
    "        print(\"You have come to the end of this exams.\")\n",
    "        \n",
    "        print(student,\"your score is: \", score,\"/10\")\n",
    "        if score > 7:\n",
    "            print(\"Great job\")\n",
    "            \n",
    "            \n",
    "            \n",
    "    elif student_login == \"2\":\n",
    "        print(\"Be sure to come back well prepared within 3 hours\")\n",
    "    else:\n",
    "        print(\"Invalid command\")\n",
    "        \n",
    "    "
   ]
  },
  {
   "cell_type": "code",
   "execution_count": 4,
   "metadata": {},
   "outputs": [
    {
     "name": "stdout",
     "output_type": "stream",
     "text": [
      "Welcome to the  end of term examination. I wish you success as you take this paper.\n",
      "                Press 1 to start:  \n",
      "                Press 2 to exit: 1\n",
      "This paper is for 30 minutes.\n",
      "Type your name: Asa\n",
      "Asa , you can now begin\n",
      "Select the correct option for each question\n",
      "Q1. 1+ 1 = ? a) 2 b) 3 c) 4 d)5 : a\n",
      "Q2. 2+ 1 =?  a) 2 b) 3 c) 4 d)5 : a\n",
      "Q3. 3+ 1 =?  a) 2 b) 3 c) 4 d)5 : a\n",
      "Q4. 4+ 1 =?  a) 2 b) 3 c) 4 d)5 : a\n",
      "Q5. 5+ 1 =?  a) 6 b) 3 c) 4 d)5 : a\n",
      "Q6. 6+ 1 =?  a) 2 b) 7 c) 4 d)5 : c\n",
      "Q7. 7+ 1 =?  a) 2 b) 3 c) 8 d)5 : a\n",
      "Q8. 8+ 1 =?  a) 2 b) 3 c) 4 d)9 : a\n",
      "Q9. 9+ 1 =?  a) 2 b) 3 c) 10 d)5 : c\n",
      "Q10. 10+ 1 =?  a) 2 b) 11 c) 4 d)5 : a\n",
      "You have come to the end of this exams.\n",
      "Asa your score is:  8 /10\n",
      "Great job\n"
     ]
    }
   ],
   "source": [
    "exams()"
   ]
  }
 ],
 "metadata": {
  "kernelspec": {
   "display_name": "Python 3",
   "language": "python",
   "name": "python3"
  },
  "language_info": {
   "codemirror_mode": {
    "name": "ipython",
    "version": 3
   },
   "file_extension": ".py",
   "mimetype": "text/x-python",
   "name": "python",
   "nbconvert_exporter": "python",
   "pygments_lexer": "ipython3",
   "version": "3.7.6"
  }
 },
 "nbformat": 4,
 "nbformat_minor": 4
}
